{
 "cells": [
  {
   "cell_type": "code",
   "execution_count": 3,
   "metadata": {},
   "outputs": [],
   "source": [
    "import numpy as np\n",
    "from matplotlib import pyplot as plt"
   ]
  },
  {
   "cell_type": "markdown",
   "metadata": {},
   "source": [
    "# Basics"
   ]
  },
  {
   "cell_type": "markdown",
   "metadata": {},
   "source": [
    "1) Consider the problem of classifying 4 dimension features(unpadded).\n",
    "\n",
    "Draw a network(on paper or something) of a neural network of 4 hidden layer where the first two hidden layers has 2 nodes each and last two has 3 nodes each."
   ]
  },
  {
   "cell_type": "code",
   "execution_count": null,
   "metadata": {},
   "outputs": [],
   "source": []
  },
  {
   "cell_type": "markdown",
   "metadata": {},
   "source": [
    "2) What is the dimension for all the $W$ adn $b$?"
   ]
  },
  {
   "cell_type": "code",
   "execution_count": null,
   "metadata": {},
   "outputs": [],
   "source": []
  },
  {
   "cell_type": "markdown",
   "metadata": {},
   "source": [
    "3) Consider \n",
    "$$\n",
    "    W^{[1]} = \\begin{bmatrix}\n",
    "        4 & 1 \\\\\n",
    "        -3 & 3 \\\\\n",
    "        2 & 3\n",
    "    \\end{bmatrix}\n",
    "$$\n",
    "\n",
    "$$\n",
    "    b^{[1]} = \\begin{bmatrix}\n",
    "       1 \\\\\n",
    "       2 \\\\\n",
    "       -3 \\\\\n",
    "    \\end{bmatrix}\n",
    "$$\n",
    "\n",
    "and \n",
    "\n",
    "$$ W^{[2]} = \\begin{bmatrix}\n",
    "2 & 3 & 4\n",
    "\\end{bmatrix}\n",
    "$$\n",
    "\n",
    "$$\n",
    "    b^{2} = \\begin{bmatrix}\n",
    "-2\n",
    "\\end{bmatrix}\n",
    "$$\n",
    "\n",
    "What does your network look like?"
   ]
  },
  {
   "cell_type": "code",
   "execution_count": 21,
   "metadata": {
    "ExecuteTime": {
     "end_time": "2023-07-03T08:00:13.051932Z",
     "start_time": "2023-07-03T08:00:13.028691Z"
    }
   },
   "outputs": [
    {
     "name": "stdout",
     "output_type": "stream",
     "text": [
      "[[0.99908895]\n",
      " [0.99330715]\n",
      " [0.99330715]]\n",
      "[[6.95132794]]\n",
      "[[0.99904355]]\n"
     ]
    }
   ],
   "source": [
    "import numpy as np\n",
    "from scipy.special import expit\n",
    "w1 = np.array([\n",
    "    [4.0, 1],\n",
    "    [-3, 3],\n",
    "    [2, 3]\n",
    "])\n",
    "\n",
    "b1 = np.array([[1.],\n",
    "              [2.],\n",
    "              [-3.]])\n",
    "\n",
    "\n",
    "\n",
    "x = np.array([[1.],\n",
    "              [2.]])\n",
    "\n",
    "z1 = w1@x + b1\n",
    "\n",
    "a1 = expit(z1)\n",
    "\n",
    "w2 = np.array([[2, 3, 4]])\n",
    "b2 = np.array([[-2]])\n",
    "\n",
    "z2 = w2@a1 + b2\n",
    "a2 = expit(z2)\n",
    "\n",
    "# print(w1)\n",
    "# print(b1)\n",
    "# print(x)\n",
    "# print(z1)\n",
    "print(a1)\n",
    "print(z2)\n",
    "print(a2)"
   ]
  },
  {
   "cell_type": "markdown",
   "metadata": {},
   "source": [
    "4) What is the probability of $x = \\begin{bmatrix} 1 \\\\ 2 \\end{bmatrix}$ to be of class 1."
   ]
  },
  {
   "cell_type": "code",
   "execution_count": null,
   "metadata": {},
   "outputs": [],
   "source": []
  },
  {
   "cell_type": "markdown",
   "metadata": {},
   "source": [
    "5) Given two dimension feature find the weights for the network that returns 1 if $2x_1 + x_2 - 1 > 0$ AND $x_1 - x_2 - 1 > 0$"
   ]
  },
  {
   "cell_type": "code",
   "execution_count": 32,
   "metadata": {
    "ExecuteTime": {
     "end_time": "2023-07-03T08:18:14.980107Z",
     "start_time": "2023-07-03T08:18:14.671548Z"
    }
   },
   "outputs": [
    {
     "data": {
      "text/plain": [
       "<matplotlib.contour.QuadContourSet at 0x7fc1c8406748>"
      ]
     },
     "execution_count": 32,
     "metadata": {},
     "output_type": "execute_result"
    },
    {
     "data": {
      "image/png": "[encoded data removed]",
      "text/plain": [
       "<Figure size 432x288 with 1 Axes>"
      ]
     },
     "metadata": {
      "image/png": {
       "height": 252,
       "width": 374
      },
      "needs_background": "light"
     },
     "output_type": "display_data"
    }
   ],
   "source": [
    "xs = np.linspace(-4, 4, 100)\n",
    "ys = np.linspace(-4, 4, 100)\n",
    "\n",
    "def f(x):\n",
    "    w1 = np.array([[20, 10.],[10, -10]])\n",
    "    b1 = np.array([[-10], [-10.]])\n",
    "    w2 = np.array([[75, 75.]])\n",
    "    b2 = np.array([[-100]])\n",
    "    \n",
    "    z1 = w1@x + b1\n",
    "    a1 = expit(z1)\n",
    "    \n",
    "    z2 = w2@a1 + b1\n",
    "    a2 = expit(z2)\n",
    "    return a2[0][0]\n",
    "\n",
    "Z = np.array([[f(np.array([[x], [y]])) for x in xs] for y in ys])\n",
    "\n",
    "from matplotlib import pyplot as plt\n",
    "plt.contourf(xs, ys, Z)"
   ]
  },
  {
   "cell_type": "markdown",
   "metadata": {},
   "source": [
    "# Training"
   ]
  },
  {
   "cell_type": "markdown",
   "metadata": {},
   "source": [
    "1) What's our cost function?"
   ]
  },
  {
   "cell_type": "code",
   "execution_count": 51,
   "metadata": {
    "ExecuteTime": {
     "end_time": "2023-07-03T08:56:35.229468Z",
     "start_time": "2023-07-03T08:56:35.210721Z"
    }
   },
   "outputs": [
    {
     "name": "stdout",
     "output_type": "stream",
     "text": [
      "39.38298252113995\n"
     ]
    }
   ],
   "source": [
    "def split(w) -> 'w1, b1, w2, b2, w3, b3':\n",
    "    w1 = w[0:8].reshape((4,2))\n",
    "    b1 = w[8:12].reshape((4,1))\n",
    "    \n",
    "    w2 = w[12:20].reshape((2,4))\n",
    "    b2 = w[20:22].reshape((2,1))\n",
    "    \n",
    "    w3 = w[22:24].reshape((1,2))\n",
    "    b3 = w[24:25].reshape((1,1))\n",
    "    return w1, b1, w2, b2, w3, b3\n",
    "\n",
    "def predict(w, x):\n",
    "    w1, b1, w2, b2, w3, b3 = split(w)\n",
    "    a1 = expit(w1@x + b1)\n",
    "    a2 = expit(w2@a1 + b2)\n",
    "    a3 = expit(w3@a2 + b3)    \n",
    "    return a3[0]\n",
    "\n",
    "def cost(w):\n",
    "    p = predict(w, xs)\n",
    "    llh = np.empty(p.shape)\n",
    "    llh[ys==1] = np.log(p[ys==1])\n",
    "    llh[ys==0] = np.log(p[ys==0])\n",
    "    #llh = ys*np.log(p) + (1-ys)*np.log1p(-p)\n",
    "    return -np.sum(llh)\n",
    "\n",
    "np.random.seed(444)\n",
    "testw = np.random.randn(25)\n",
    "print(cost(testw))\n",
    "\n",
    "# test_xs = np.array([[1,2,3],[4,5,6]])\n",
    "# print(test_xs)\n",
    "# predict(testw, test_xs)"
   ]
  },
  {
   "cell_type": "code",
   "execution_count": 53,
   "metadata": {
    "ExecuteTime": {
     "end_time": "2023-07-03T08:57:01.770286Z",
     "start_time": "2023-07-03T08:57:01.702962Z"
    }
   },
   "outputs": [
    {
     "name": "stdout",
     "output_type": "stream",
     "text": [
      "      fun: 6.743334838510694e-06\n",
      " hess_inv: array([[ 4.09997324e+02,  3.08097243e+02,  1.04321823e+01,\n",
      "        -1.31364620e+01, -4.48118934e+01, -7.18665343e+01,\n",
      "        -7.34312476e+01, -1.33790765e+02,  9.62665662e+02,\n",
      "         2.79816234e+01, -1.18659873e+02,  3.38629071e+02,\n",
      "        -7.98368031e+02, -1.06697807e+03, -1.08296480e+03,\n",
      "        -3.62031365e+02, -6.52935628e+02, -6.28509985e+02,\n",
      "        -8.99748899e+02, -4.78382483e+02, -1.76591638e+03,\n",
      "        -1.27614712e+03, -3.59011534e+03, -1.50335186e+03,\n",
      "         5.13956459e+02],\n",
      "       [ 3.08097243e+02,  2.33094639e+02,  7.85855300e+00,\n",
      "        -9.89576179e+00, -3.37568766e+01, -5.41378657e+01,\n",
      "        -5.53151820e+01, -1.00783117e+02,  7.25170901e+02,\n",
      "         2.10777403e+01, -8.93869652e+01,  2.55086200e+02,\n",
      "        -6.01406747e+02, -8.03751631e+02, -8.15791033e+02,\n",
      "        -2.72715636e+02, -4.91850322e+02, -4.73450743e+02,\n",
      "        -6.77772489e+02, -3.60361046e+02, -1.33025759e+03,\n",
      "        -9.61309786e+02, -2.70445488e+03, -1.13247583e+03,\n",
      "         3.87162395e+02],\n",
      "       [ 1.04321823e+01,  7.85855300e+00,  1.26608826e+00,\n",
      "        -3.35056017e-01, -1.14300368e+00, -1.83306333e+00,\n",
      "        -1.87297083e+00, -3.41253515e+00,  2.45543427e+01,\n",
      "         7.13715068e-01, -3.02661345e+00,  8.63728789e+00,\n",
      "        -2.03636811e+01, -2.72150287e+01, -2.76227425e+01,\n",
      "        -9.23418323e+00, -1.66542094e+01, -1.60311923e+01,\n",
      "        -2.29495917e+01, -1.22019423e+01, -4.50425455e+01,\n",
      "        -3.25502538e+01, -9.15713300e+01, -3.83449625e+01,\n",
      "         1.31091490e+01],\n",
      "       [-1.31364620e+01, -9.89576179e+00, -3.35056017e-01,\n",
      "         1.42186434e+00,  1.43929509e+00,  2.30818225e+00,\n",
      "         2.35839186e+00,  4.29698278e+00, -3.09189056e+01,\n",
      "        -8.98701474e-01,  3.81114842e+00, -1.08760593e+01,\n",
      "         2.56420629e+01,  3.42694108e+01,  3.47825400e+01,\n",
      "         1.16276394e+01,  2.09709819e+01,  2.01864781e+01,\n",
      "         2.88981254e+01,  1.53646900e+01,  5.67177265e+01,\n",
      "         4.09872786e+01,  1.15306211e+02,  4.82818398e+01,\n",
      "        -1.65074046e+01],\n",
      "       [-4.48118934e+01, -3.37568766e+01, -1.14300368e+00,\n",
      "         1.43929509e+00,  5.90982542e+00,  7.87408010e+00,\n",
      "         8.04546819e+00,  1.46587176e+01, -1.05474486e+02,\n",
      "        -3.06580343e+00,  1.30009981e+01, -3.71017906e+01,\n",
      "         8.74732257e+01,  1.16903564e+02,  1.18655014e+02,\n",
      "         3.96659297e+01,  7.15386078e+01,  6.88624247e+01,\n",
      "         9.85805971e+01,  5.24137669e+01,  1.93482700e+02,\n",
      "         1.39820506e+02,  3.93351744e+02,  1.64714462e+02,\n",
      "        -5.63120283e+01],\n",
      "       [-7.18665343e+01, -5.41378657e+01, -1.83306333e+00,\n",
      "         2.30818225e+00,  7.87408010e+00,  1.36279562e+01,\n",
      "         1.29025984e+01,  2.35083117e+01, -1.69152127e+02,\n",
      "        -4.91662559e+00,  2.08501905e+01, -5.95008615e+01,\n",
      "         1.40283170e+02,  1.87481781e+02,  1.90289830e+02,\n",
      "         6.36130714e+01,  1.14727849e+02,  1.10436005e+02,\n",
      "         1.58095610e+02,  8.40569752e+01,  3.10293382e+02,\n",
      "         2.24232850e+02,  6.30831182e+02,  2.64154419e+02,\n",
      "        -9.03090555e+01],\n",
      "       [-7.34312476e+01, -5.53151820e+01, -1.87297083e+00,\n",
      "         2.35839186e+00,  8.04546819e+00,  1.29025984e+01,\n",
      "         1.41834854e+01,  2.40201351e+01, -1.72835564e+02,\n",
      "        -5.02393361e+00,  2.13039249e+01, -6.07964069e+01,\n",
      "         1.43337847e+02,  1.91563708e+02,  1.94433531e+02,\n",
      "         6.49983299e+01,  1.17225432e+02,  1.12840155e+02,\n",
      "         1.61537286e+02,  8.58868630e+01,  3.17049577e+02,\n",
      "         2.29114309e+02,  6.44556651e+02,  2.69903268e+02,\n",
      "        -9.22750104e+01],\n",
      "       [-1.33790765e+02, -1.00783117e+02, -3.41253515e+00,\n",
      "         4.29698278e+00,  1.46587176e+01,  2.35083117e+01,\n",
      "         2.40201351e+01,  4.47643279e+01, -3.14904506e+02,\n",
      "        -9.15366324e+00,  3.88154156e+01, -1.10770118e+02,\n",
      "         2.61159905e+02,  3.49026697e+02,  3.54255762e+02,\n",
      "         1.18426242e+02,  2.13582504e+02,  2.05592619e+02,\n",
      "         2.94317860e+02,  1.56484221e+02,  5.77660598e+02,\n",
      "         4.17441915e+02,  1.17437253e+03,  4.91761529e+02,\n",
      "        -1.68123858e+02],\n",
      "       [ 9.62665662e+02,  7.25170901e+02,  2.45543427e+01,\n",
      "        -3.09189056e+01, -1.05474486e+02, -1.69152127e+02,\n",
      "        -1.72835564e+02, -3.14904506e+02,  2.26684261e+03,\n",
      "         6.58614978e+01, -2.79291062e+02,  7.97036483e+02,\n",
      "        -1.87913272e+03, -2.51136405e+03, -2.54899165e+03,\n",
      "        -8.52118712e+02, -1.53682390e+03, -1.47933290e+03,\n",
      "        -2.11775176e+03, -1.12597571e+03, -4.15646534e+03,\n",
      "        -3.00368560e+03, -8.45006728e+03, -3.53841802e+03,\n",
      "         1.20972444e+03],\n",
      "       [ 2.79816234e+01,  2.10777403e+01,  7.13715068e-01,\n",
      "        -8.98701474e-01, -3.06580343e+00, -4.91662559e+00,\n",
      "        -5.02393361e+00, -9.15366324e+00,  6.58614978e+01,\n",
      "         2.91442480e+00, -8.11805946e+00,  2.31680947e+01,\n",
      "        -5.46209375e+01, -7.29977606e+01, -7.40920070e+01,\n",
      "        -2.47687942e+01, -4.46725426e+01, -4.30013785e+01,\n",
      "        -6.15590028e+01, -3.27299777e+01, -1.20816276e+02,\n",
      "        -8.73114014e+01, -2.45614277e+02, -1.02849320e+02,\n",
      "         3.51644114e+01],\n",
      "       [-1.18659873e+02, -8.93869652e+01, -3.02661345e+00,\n",
      "         3.81114842e+00,  1.30009981e+01,  2.08501905e+01,\n",
      "         2.13039249e+01,  3.88154156e+01, -2.79291062e+02,\n",
      "        -8.11805946e+00,  3.54260432e+01, -9.82435522e+01,\n",
      "         2.31624706e+02,  3.09554923e+02,  3.14192298e+02,\n",
      "         1.05033271e+02,  1.89430398e+02,  1.82344010e+02,\n",
      "         2.61036135e+02,  1.38788847e+02,  5.12332407e+02,\n",
      "         3.70237202e+02,  1.04157617e+03,  4.36154482e+02,\n",
      "        -1.49110698e+02],\n",
      "       [ 3.38629071e+02,  2.55086200e+02,  8.63728789e+00,\n",
      "        -1.08760593e+01, -3.71017906e+01, -5.95008615e+01,\n",
      "        -6.07964069e+01, -1.10770118e+02,  7.97036483e+02,\n",
      "         2.31680947e+01, -9.82435522e+01,  2.81364612e+02,\n",
      "        -6.61006516e+02, -8.83400910e+02, -8.96636832e+02,\n",
      "        -2.99742199e+02, -5.40588603e+02, -5.20365776e+02,\n",
      "        -7.44934066e+02, -3.96069826e+02, -1.46208377e+03,\n",
      "        -1.05656755e+03, -2.97239796e+03, -1.24467956e+03,\n",
      "         4.25530617e+02],\n",
      "       [-7.98368031e+02, -6.01406747e+02, -2.03636811e+01,\n",
      "         2.56420629e+01,  8.74732257e+01,  1.40283170e+02,\n",
      "         1.43337847e+02,  2.61159905e+02, -1.87913272e+03,\n",
      "        -5.46209375e+01,  2.31624706e+02, -6.61006516e+02,\n",
      "         1.55942226e+03,  2.08275120e+03,  2.11395695e+03,\n",
      "         7.06688153e+02,  1.27453437e+03,  1.22685536e+03,\n",
      "         1.75631537e+03,  9.33805575e+02,  3.44708423e+03,\n",
      "         2.49104700e+03,  7.00790510e+03,  2.93452322e+03,\n",
      "        -1.00326023e+03],\n",
      "       [-1.06697807e+03, -8.03751631e+02, -2.72150287e+01,\n",
      "         3.42694108e+01,  1.16903564e+02,  1.87481781e+02,\n",
      "         1.91563708e+02,  3.49026697e+02, -2.51136405e+03,\n",
      "        -7.29977606e+01,  3.09554923e+02, -8.83400910e+02,\n",
      "         2.08275120e+03,  2.78449062e+03,  2.82519447e+03,\n",
      "         9.44452206e+02,  1.70334921e+03,  1.63962869e+03,\n",
      "         2.34722458e+03,  1.24798280e+03,  4.60685145e+03,\n",
      "         3.32915539e+03,  9.36572227e+03,  3.92184802e+03,\n",
      "        -1.34080349e+03],\n",
      "       [-1.08296480e+03, -8.15791033e+02, -2.76227425e+01,\n",
      "         3.47825400e+01,  1.18655014e+02,  1.90289830e+02,\n",
      "         1.94433531e+02,  3.54255762e+02, -2.54899165e+03,\n",
      "        -7.40920070e+01,  3.14192298e+02, -8.96636832e+02,\n",
      "         2.11395695e+03,  2.82519447e+03,  2.86852372e+03,\n",
      "         9.58602738e+02,  1.72886986e+03,  1.66419463e+03,\n",
      "         2.38239215e+03,  1.26668089e+03,  4.67587388e+03,\n",
      "         3.37903485e+03,  9.50601387e+03,  3.98058876e+03,\n",
      "        -1.36089341e+03],\n",
      "       [-3.62031365e+02, -2.72715636e+02, -9.23418323e+00,\n",
      "         1.16276394e+01,  3.96659297e+01,  6.36130714e+01,\n",
      "         6.49983299e+01,  1.18426242e+02, -8.52118712e+02,\n",
      "        -2.47687942e+01,  1.05033271e+02, -2.99742199e+02,\n",
      "         7.06688153e+02,  9.44452206e+02,  9.58602738e+02,\n",
      "         3.21457331e+02,  5.77954132e+02,  5.56333468e+02,\n",
      "         7.96423960e+02,  4.23446244e+02,  1.56312750e+03,\n",
      "         1.12959754e+03,  3.17782158e+03,  1.33069102e+03,\n",
      "        -4.54945890e+02],\n",
      "       [-6.52935628e+02, -4.91850322e+02, -1.66542094e+01,\n",
      "         2.09709819e+01,  7.15386078e+01,  1.14727849e+02,\n",
      "         1.17225432e+02,  2.13582504e+02, -1.53682390e+03,\n",
      "        -4.46725426e+01,  1.89430398e+02, -5.40588603e+02,\n",
      "         1.27453437e+03,  1.70334921e+03,  1.72886986e+03,\n",
      "         5.77954132e+02,  1.04333965e+03,  1.00334691e+03,\n",
      "         1.43634978e+03,  7.63684717e+02,  2.81914901e+03,\n",
      "         2.03722809e+03,  5.73129485e+03,  2.39996475e+03,\n",
      "        -8.20488756e+02],\n",
      "       [-6.28509985e+02, -4.73450743e+02, -1.60311923e+01,\n",
      "         2.01864781e+01,  6.88624247e+01,  1.10436005e+02,\n",
      "         1.12840155e+02,  2.05592619e+02, -1.47933290e+03,\n",
      "        -4.30013785e+01,  1.82344010e+02, -5.20365776e+02,\n",
      "         1.22685536e+03,  1.63962869e+03,  1.66419463e+03,\n",
      "         5.56333468e+02,  1.00334691e+03,  9.66812847e+02,\n",
      "         1.38261757e+03,  7.35116144e+02,  2.71368757e+03,\n",
      "         1.96101771e+03,  5.51689322e+03,  2.31018451e+03,\n",
      "        -7.89795133e+02],\n",
      "       [-8.99748899e+02, -6.77772489e+02, -2.29495917e+01,\n",
      "         2.88981254e+01,  9.85805971e+01,  1.58095610e+02,\n",
      "         1.61537286e+02,  2.94317860e+02, -2.11775176e+03,\n",
      "        -6.15590028e+01,  2.61036135e+02, -7.44934066e+02,\n",
      "         1.75631537e+03,  2.34722458e+03,  2.38239215e+03,\n",
      "         7.96423960e+02,  1.43634978e+03,  1.38261757e+03,\n",
      "         1.98029792e+03,  1.05236175e+03,  3.88480281e+03,\n",
      "         2.80731154e+03,  7.89775586e+03,  3.30716447e+03,\n",
      "        -1.13063801e+03],\n",
      "       [-4.78382483e+02, -3.60361046e+02, -1.22019423e+01,\n",
      "         1.53646900e+01,  5.24137669e+01,  8.40569752e+01,\n",
      "         8.58868630e+01,  1.56484221e+02, -1.12597571e+03,\n",
      "        -3.27299777e+01,  1.38788847e+02, -3.96069826e+02,\n",
      "         9.33805575e+02,  1.24798280e+03,  1.26668089e+03,\n",
      "         4.23446244e+02,  7.63684717e+02,  7.35116144e+02,\n",
      "         1.05236175e+03,  5.60524284e+02,  2.06548926e+03,\n",
      "         1.49260364e+03,  4.19911397e+03,  1.75836816e+03,\n",
      "        -6.01142746e+02],\n",
      "       [-1.76591638e+03, -1.33025759e+03, -4.50425455e+01,\n",
      "         5.67177265e+01,  1.93482700e+02,  3.10293382e+02,\n",
      "         3.17049577e+02,  5.77660598e+02, -4.15646534e+03,\n",
      "        -1.20816276e+02,  5.12332407e+02, -1.46208377e+03,\n",
      "         3.44708423e+03,  4.60685145e+03,  4.67587388e+03,\n",
      "         1.56312750e+03,  2.81914901e+03,  2.71368757e+03,\n",
      "         3.88480281e+03,  2.06548926e+03,  7.62562741e+03,\n",
      "         5.50995942e+03,  1.55008326e+04,  6.49088644e+03,\n",
      "        -2.21911535e+03],\n",
      "       [-1.27614712e+03, -9.61309786e+02, -3.25502538e+01,\n",
      "         4.09872786e+01,  1.39820506e+02,  2.24232850e+02,\n",
      "         2.29114309e+02,  4.17441915e+02, -3.00368560e+03,\n",
      "        -8.73114014e+01,  3.70237202e+02, -1.05656755e+03,\n",
      "         2.49104700e+03,  3.32915539e+03,  3.37903485e+03,\n",
      "         1.12959754e+03,  2.03722809e+03,  1.96101771e+03,\n",
      "         2.80731154e+03,  1.49260364e+03,  5.50995942e+03,\n",
      "         3.98271392e+03,  1.12016792e+04,  4.69067359e+03,\n",
      "        -1.60362567e+03],\n",
      "       [-3.59011534e+03, -2.70445488e+03, -9.15713300e+01,\n",
      "         1.15306211e+02,  3.93351744e+02,  6.30831182e+02,\n",
      "         6.44556651e+02,  1.17437253e+03, -8.45006728e+03,\n",
      "        -2.45614277e+02,  1.04157617e+03, -2.97239796e+03,\n",
      "         7.00790510e+03,  9.36572227e+03,  9.50601387e+03,\n",
      "         3.17782158e+03,  5.73129485e+03,  5.51689322e+03,\n",
      "         7.89775586e+03,  4.19911397e+03,  1.55008326e+04,\n",
      "         1.12016792e+04,  3.15143102e+04,  1.31959058e+04,\n",
      "        -4.51147189e+03],\n",
      "       [-1.50335186e+03, -1.13247583e+03, -3.83449625e+01,\n",
      "         4.82818398e+01,  1.64714462e+02,  2.64154419e+02,\n",
      "         2.69903268e+02,  4.91761529e+02, -3.53841802e+03,\n",
      "        -1.02849320e+02,  4.36154482e+02, -1.24467956e+03,\n",
      "         2.93452322e+03,  3.92184802e+03,  3.98058876e+03,\n",
      "         1.33069102e+03,  2.39996475e+03,  2.31018451e+03,\n",
      "         3.30716447e+03,  1.75836816e+03,  6.49088644e+03,\n",
      "         4.69067359e+03,  1.31959058e+04,  5.52629621e+03,\n",
      "        -1.88957531e+03],\n",
      "       [ 5.13956459e+02,  3.87162395e+02,  1.31091490e+01,\n",
      "        -1.65074046e+01, -5.63120283e+01, -9.03090555e+01,\n",
      "        -9.22750104e+01, -1.68123858e+02,  1.20972444e+03,\n",
      "         3.51644114e+01, -1.49110698e+02,  4.25530617e+02,\n",
      "        -1.00326023e+03, -1.34080349e+03, -1.36089341e+03,\n",
      "        -4.54945890e+02, -8.20488756e+02, -7.89795133e+02,\n",
      "        -1.13063801e+03, -6.01142746e+02, -2.21911535e+03,\n",
      "        -1.60362567e+03, -4.51147189e+03, -1.88957531e+03,\n",
      "         6.46273351e+02]])\n",
      "      jac: array([ 0.00000000e+00,  0.00000000e+00,  0.00000000e+00,  0.00000000e+00,\n",
      "       -1.49011612e-08,  0.00000000e+00,  0.00000000e+00,  0.00000000e+00,\n",
      "        0.00000000e+00,  0.00000000e+00,  0.00000000e+00,  0.00000000e+00,\n",
      "        0.00000000e+00,  0.00000000e+00,  0.00000000e+00,  0.00000000e+00,\n",
      "        0.00000000e+00,  0.00000000e+00,  0.00000000e+00,  0.00000000e+00,\n",
      "        0.00000000e+00,  0.00000000e+00, -6.63101724e-06, -6.63101724e-06,\n",
      "       -6.63101724e-06])\n",
      "  message: 'Optimization terminated successfully.'\n",
      "     nfev: 540\n",
      "      nit: 19\n",
      "     njev: 20\n",
      "   status: 0\n",
      "  success: True\n",
      "        x: array([-0.76829243, -0.12458757,  1.35197959,  1.21946278, -0.81640888,\n",
      "       -0.97216183, -0.24286774,  0.04274782, -2.96229976,  0.09882379,\n",
      "        1.58390614, -2.16192617, -0.70699414,  2.48322115,  3.31097086,\n",
      "        0.4173963 ,  2.92545436,  2.91501007,  3.89743625,  1.13104031,\n",
      "        6.20292268,  7.16697027, 10.28752058,  5.82307229,  0.40218523])\n"
     ]
    }
   ],
   "source": [
    "from scipy.optimize import minimize\n",
    "res = minimize(cost, testw)\n",
    "print(res)\n",
    "best_w = res.x"
   ]
  },
  {
   "cell_type": "markdown",
   "metadata": {},
   "source": [
    "2) Consider the following dataset. \n",
    "\n",
    "We want to train a neural network 2 hidden layers where the first one has 4 nodes and second one with 2 nodes. How many parameters do we need in total?"
   ]
  },
  {
   "cell_type": "code",
   "execution_count": 39,
   "metadata": {
    "ExecuteTime": {
     "end_time": "2023-07-03T08:46:33.770176Z",
     "start_time": "2023-07-03T08:46:33.624898Z"
    }
   },
   "outputs": [
    {
     "data": {
      "image/png": "[encoded data removed]",
      "text/plain": [
       "<Figure size 432x288 with 1 Axes>"
      ]
     },
     "metadata": {
      "image/png": {
       "height": 248,
       "width": 370
      },
      "needs_background": "light"
     },
     "output_type": "display_data"
    }
   ],
   "source": [
    "np.random.seed(999)\n",
    "xs = np.hstack([np.random.randn(2,50), np.random.random(size=(2,50))*8-4])\n",
    "ys = np.array([1]*50+[0]*50)\n",
    "\n",
    "def draw_data():\n",
    "    plt.plot(xs[0, ys==0], xs[1, ys==0], '.r')\n",
    "    plt.plot(xs[0, ys==1], xs[1, ys==1], '.b')\n",
    "    \n",
    "draw_data()"
   ]
  },
  {
   "cell_type": "markdown",
   "metadata": {},
   "source": [
    "3) Is initializing your initial weight with all 0 or all the same number a good idea?"
   ]
  },
  {
   "cell_type": "code",
   "execution_count": 41,
   "metadata": {
    "ExecuteTime": {
     "end_time": "2023-07-03T08:46:38.189477Z",
     "start_time": "2023-07-03T08:46:38.182362Z"
    }
   },
   "outputs": [
    {
     "data": {
      "text/plain": [
       "(2, 100)"
      ]
     },
     "execution_count": 41,
     "metadata": {},
     "output_type": "execute_result"
    }
   ],
   "source": [
    "xs.shape"
   ]
  },
  {
   "cell_type": "markdown",
   "metadata": {},
   "source": [
    "4) Given the following size information. Complete the following function."
   ]
  },
  {
   "cell_type": "code",
   "execution_count": null,
   "metadata": {},
   "outputs": [],
   "source": [
    "n_node = [4, 2, 1] # number of node in each layer\n",
    "def compute_w_b_offset(layer_no):\n",
    "    pass # fill this\n",
    "    return w_offset, n_w, b_offset, n_b # this is so that we can slice off parameter"
   ]
  },
  {
   "cell_type": "markdown",
   "metadata": {},
   "source": [
    "4) What implement the vectorized version of our cost function."
   ]
  },
  {
   "cell_type": "code",
   "execution_count": null,
   "metadata": {},
   "outputs": [],
   "source": []
  },
  {
   "cell_type": "markdown",
   "metadata": {},
   "source": [
    "5) Use np.optimize.minimize to train your network. Check with contour plot."
   ]
  },
  {
   "cell_type": "code",
   "execution_count": 19,
   "metadata": {},
   "outputs": [],
   "source": [
    "class SadNeuralNetwork:\n",
    "    def __init__(self):\n",
    "        pass\n",
    "    def train(self, xs, ys):\n",
    "        pass\n",
    "    def classify(self, xs):\n",
    "        pass"
   ]
  },
  {
   "cell_type": "markdown",
   "metadata": {},
   "source": [
    "# Back Propagation"
   ]
  },
  {
   "cell_type": "markdown",
   "metadata": {},
   "source": [
    "1) Why minimize is a bad idea?"
   ]
  },
  {
   "cell_type": "code",
   "execution_count": null,
   "metadata": {},
   "outputs": [],
   "source": []
  },
  {
   "cell_type": "markdown",
   "metadata": {},
   "source": [
    "2) Write down the update rule (The recursion relation one)"
   ]
  },
  {
   "cell_type": "code",
   "execution_count": null,
   "metadata": {},
   "outputs": [],
   "source": []
  },
  {
   "cell_type": "markdown",
   "metadata": {},
   "source": [
    "3) For the rest of the week. Write back propagation. This should work for any size neural network.\n",
    "\n",
    "Shouldn't take that long though. You will spend most of the time on trying to understand the relation above.\n",
    "\n",
    "Do this once and use library for the rest of your life unless you want something super custom."
   ]
  },
  {
   "cell_type": "code",
   "execution_count": 18,
   "metadata": {},
   "outputs": [],
   "source": [
    "class NeuralNetwork:\n",
    "    def __init__(self, n_nodes):\n",
    "        pass\n",
    "    \n",
    "    def train(self, xs, ys, lmbda):\n",
    "        #back prop\n",
    "        pass\n",
    "    \n",
    "    def classify(self, xs):\n",
    "        pass"
   ]
  },
  {
   "cell_type": "code",
   "execution_count": null,
   "metadata": {},
   "outputs": [],
   "source": []
  }
 ],
 "metadata": {
  "hide_input": false,
  "kernelspec": {
   "display_name": "Python 3",
   "language": "python",
   "name": "python3"
  },
  "language_info": {
   "codemirror_mode": {
    "name": "ipython",
    "version": 3
   },
   "file_extension": ".py",
   "mimetype": "text/x-python",
   "name": "python",
   "nbconvert_exporter": "python",
   "pygments_lexer": "ipython3",
   "version": "3.7.3"
  },
  "toc": {
   "colors": {
    "hover_highlight": "#DAA520",
    "running_highlight": "#FF0000",
    "selected_highlight": "#FFD700"
   },
   "moveMenuLeft": true,
   "nav_menu": {
    "height": "66px",
    "width": "252px"
   },
   "navigate_menu": true,
   "number_sections": false,
   "sideBar": true,
   "threshold": 4,
   "toc_cell": false,
   "toc_section_display": "block",
   "toc_window_display": false
  }
 },
 "nbformat": 4,
 "nbformat_minor": 2
}
