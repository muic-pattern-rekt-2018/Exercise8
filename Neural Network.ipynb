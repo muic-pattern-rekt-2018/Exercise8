{
 "cells": [
  {
   "cell_type": "code",
   "execution_count": 3,
   "metadata": {},
   "outputs": [],
   "source": [
    "import numpy as np\n",
    "from matplotlib import pyplot as plt"
   ]
  },
  {
   "cell_type": "markdown",
   "metadata": {},
   "source": [
    "# Basics"
   ]
  },
  {
   "cell_type": "markdown",
   "metadata": {},
   "source": [
    "1) Consider the problem of classifying 4 dimension features(unpadded).\n",
    "\n",
    "Draw a network(on paper or something) of a neural network of 4 hidden layer where the first two hidden layers has 2 nodes each and last two has 3 nodes each."
   ]
  },
  {
   "cell_type": "code",
   "execution_count": null,
   "metadata": {},
   "outputs": [],
   "source": []
  },
  {
   "cell_type": "markdown",
   "metadata": {},
   "source": [
    "2) What is the dimension for all the $W$ adn $b$?"
   ]
  },
  {
   "cell_type": "code",
   "execution_count": null,
   "metadata": {},
   "outputs": [],
   "source": []
  },
  {
   "cell_type": "markdown",
   "metadata": {},
   "source": [
    "3) Consider \n",
    "$$\n",
    "    W^{[1]} = \\begin{bmatrix}\n",
    "        4 & 1 \\\\\n",
    "        -3 & 3 \\\\\n",
    "        2 & 3\n",
    "    \\end{bmatrix}\n",
    "$$\n",
    "\n",
    "$$\n",
    "    b^{[1]} = \\begin{bmatrix}\n",
    "       1 \\\\\n",
    "       2 \\\\\n",
    "       -3 \\\\\n",
    "    \\end{bmatrix}\n",
    "$$\n",
    "\n",
    "and \n",
    "\n",
    "$$ W^{[2]} = \\begin{bmatrix}\n",
    "2 & 3 & 4\n",
    "\\end{bmatrix}\n",
    "$$\n",
    "\n",
    "$$\n",
    "    b^{2} = \\begin{bmatrix}\n",
    "-2\n",
    "\\end{bmatrix}\n",
    "$$\n",
    "\n",
    "What does your network look like?"
   ]
  },
  {
   "cell_type": "code",
   "execution_count": 21,
   "metadata": {
    "ExecuteTime": {
     "end_time": "2023-07-03T08:00:13.051932Z",
     "start_time": "2023-07-03T08:00:13.028691Z"
    }
   },
   "outputs": [
    {
     "name": "stdout",
     "output_type": "stream",
     "text": [
      "[[0.99908895]\n",
      " [0.99330715]\n",
      " [0.99330715]]\n",
      "[[6.95132794]]\n",
      "[[0.99904355]]\n"
     ]
    }
   ],
   "source": [
    "import numpy as np\n",
    "from scipy.special import expit\n",
    "w1 = np.array([\n",
    "    [4.0, 1],\n",
    "    [-3, 3],\n",
    "    [2, 3]\n",
    "])\n",
    "\n",
    "b1 = np.array([[1.],\n",
    "              [2.],\n",
    "              [-3.]])\n",
    "\n",
    "\n",
    "\n",
    "x = np.array([[1.],\n",
    "              [2.]])\n",
    "\n",
    "z1 = w1@x + b1\n",
    "\n",
    "a1 = expit(z1)\n",
    "\n",
    "w2 = np.array([[2, 3, 4]])\n",
    "b2 = np.array([[-2]])\n",
    "\n",
    "z2 = w2@a1 + b2\n",
    "a2 = expit(z2)\n",
    "\n",
    "# print(w1)\n",
    "# print(b1)\n",
    "# print(x)\n",
    "# print(z1)\n",
    "print(a1)\n",
    "print(z2)\n",
    "print(a2)"
   ]
  },
  {
   "cell_type": "markdown",
   "metadata": {},
   "source": [
    "4) What is the probability of $x = \\begin{bmatrix} 1 \\\\ 2 \\end{bmatrix}$ to be of class 1."
   ]
  },
  {
   "cell_type": "code",
   "execution_count": null,
   "metadata": {},
   "outputs": [],
   "source": []
  },
  {
   "cell_type": "markdown",
   "metadata": {},
   "source": [
    "5) Given two dimension feature find the weights for the network that returns 1 if $2x_1 + x_2 - 1 > 0$ AND $x_1 - x_2 - 1 > 0$"
   ]
  },
  {
   "cell_type": "code",
   "execution_count": 32,
   "metadata": {
    "ExecuteTime": {
     "end_time": "2023-07-03T08:18:14.980107Z",
     "start_time": "2023-07-03T08:18:14.671548Z"
    }
   },
   "outputs": [
    {
     "data": {
      "text/plain": [
       "<matplotlib.contour.QuadContourSet at 0x7fc1c8406748>"
      ]
     },
     "execution_count": 32,
     "metadata": {},
     "output_type": "execute_result"
    },
    {
     "data": {
      "image/png": "[encoded data removed]",
      "text/plain": [
       "<Figure size 432x288 with 1 Axes>"
      ]
     },
     "metadata": {
      "image/png": {
       "height": 252,
       "width": 374
      },
      "needs_background": "light"
     },
     "output_type": "display_data"
    }
   ],
   "source": [
    "xs = np.linspace(-4, 4, 100)\n",
    "ys = np.linspace(-4, 4, 100)\n",
    "\n",
    "def f(x):\n",
    "    w1 = np.array([[20, 10.],[10, -10]])\n",
    "    b1 = np.array([[-10], [-10.]])\n",
    "    w2 = np.array([[75, 75.]])\n",
    "    b2 = np.array([[-100]])\n",
    "    \n",
    "    z1 = w1@x + b1\n",
    "    a1 = expit(z1)\n",
    "    \n",
    "    z2 = w2@a1 + b1\n",
    "    a2 = expit(z2)\n",
    "    return a2[0][0]\n",
    "\n",
    "Z = np.array([[f(np.array([[x], [y]])) for x in xs] for y in ys])\n",
    "\n",
    "from matplotlib import pyplot as plt\n",
    "plt.contourf(xs, ys, Z)"
   ]
  },
  {
   "cell_type": "markdown",
   "metadata": {},
   "source": [
    "# Training"
   ]
  },
  {
   "cell_type": "markdown",
   "metadata": {},
   "source": [
    "1) What's our cost function?"
   ]
  },
  {
   "cell_type": "code",
   "execution_count": 88,
   "metadata": {
    "ExecuteTime": {
     "end_time": "2023-07-03T09:02:54.684396Z",
     "start_time": "2023-07-03T09:02:54.651908Z"
    }
   },
   "outputs": [
    {
     "name": "stdout",
     "output_type": "stream",
     "text": [
      "72.8168270475148\n"
     ]
    }
   ],
   "source": [
    "def split(w) -> 'w1, b1, w2, b2, w3, b3':\n",
    "    w1 = w[0:8].reshape((4,2))\n",
    "    b1 = w[8:12].reshape((4,1))\n",
    "    \n",
    "    w2 = w[12:20].reshape((2,4))\n",
    "    b2 = w[20:22].reshape((2,1))\n",
    "    \n",
    "    w3 = w[22:24].reshape((1,2))\n",
    "    b3 = w[24:25].reshape((1,1))\n",
    "    return w1, b1, w2, b2, w3, b3\n",
    "\n",
    "def predict(w, x):\n",
    "    w1, b1, w2, b2, w3, b3 = split(w)\n",
    "    a1 = expit(w1@x + b1)\n",
    "    a2 = expit(w2@a1 + b2)\n",
    "    a3 = expit(w3@a2 + b3)    \n",
    "    return a3[0]\n",
    "\n",
    "def cost(w):\n",
    "    p = predict(w, xs)\n",
    "    llh = np.empty(p.shape)\n",
    "    llh[ys==1] = np.log(p[ys==1])\n",
    "    llh[ys==0] = np.log1p(-p[ys==0])\n",
    "    #print(llh)\n",
    "    #llh = ys*np.log(p) + (1-ys)*np.log1p(-p)\n",
    "    return -np.sum(llh)\n",
    "\n",
    "np.random.seed(666)\n",
    "testw = np.random.randn(25)\n",
    "print(cost(testw))\n",
    "\n",
    "# test_xs = np.array([[1,2,3],[4,5,6]])\n",
    "# print(test_xs)\n",
    "# predict(testw, test_xs)"
   ]
  },
  {
   "cell_type": "code",
   "execution_count": 89,
   "metadata": {
    "ExecuteTime": {
     "end_time": "2023-07-03T09:02:56.094422Z",
     "start_time": "2023-07-03T09:02:54.854259Z"
    }
   },
   "outputs": [
    {
     "name": "stderr",
     "output_type": "stream",
     "text": [
      "/Library/Frameworks/Python.framework/Versions/3.7/lib/python3.7/site-packages/ipykernel_launcher.py:23: RuntimeWarning: divide by zero encountered in log1p\n",
      "/Users/piti/Library/Python/3.7/lib/python/site-packages/scipy/optimize/optimize.py:696: RuntimeWarning: invalid value encountered in double_scalars\n",
      "  grad[k] = (f(*((xk + d,) + args)) - f0) / d[k]\n",
      "/Library/Frameworks/Python.framework/Versions/3.7/lib/python3.7/site-packages/ipykernel_launcher.py:23: RuntimeWarning: divide by zero encountered in log1p\n",
      "/Library/Frameworks/Python.framework/Versions/3.7/lib/python3.7/site-packages/ipykernel_launcher.py:23: RuntimeWarning: divide by zero encountered in log1p\n",
      "/Users/piti/Library/Python/3.7/lib/python/site-packages/scipy/optimize/optimize.py:696: RuntimeWarning: invalid value encountered in double_scalars\n",
      "  grad[k] = (f(*((xk + d,) + args)) - f0) / d[k]\n",
      "/Library/Frameworks/Python.framework/Versions/3.7/lib/python3.7/site-packages/ipykernel_launcher.py:23: RuntimeWarning: divide by zero encountered in log1p\n"
     ]
    },
    {
     "name": "stdout",
     "output_type": "stream",
     "text": [
      "      fun: 12.642159840691065\n",
      " hess_inv: array([[ 3.71357821e+01, -1.67541129e+01,  2.37309517e+00,\n",
      "         2.24486641e+00,  7.52664394e+02, -1.90269568e+03,\n",
      "        -2.26678406e+01, -3.04650464e+01,  3.77163145e+01,\n",
      "        -9.75016363e+00,  1.00106643e+03, -3.22197998e+01,\n",
      "         8.66714899e+01, -6.66022620e+03, -6.86222125e+03,\n",
      "        -3.56549655e+03,  2.98812114e+03, -7.18251532e+03,\n",
      "         9.17035238e+02, -2.84247669e+03, -3.52059038e-01,\n",
      "        -9.15319938e-01,  4.96345597e+03,  1.42781747e+03,\n",
      "        -1.42700600e+03],\n",
      "       [-1.67541129e+01,  7.61850718e+00, -1.42166140e+00,\n",
      "        -1.17892389e+00, -3.40926931e+02,  8.62062239e+02,\n",
      "         1.02593474e+01,  1.37439387e+01, -1.70260947e+01,\n",
      "         5.32319071e+00, -4.53660196e+02,  1.45259309e+01,\n",
      "        -3.91741978e+01,  3.01644294e+03,  3.10738993e+03,\n",
      "         1.61549944e+03, -1.35379629e+03,  3.25294017e+03,\n",
      "        -4.15518159e+02,  1.28876406e+03,  1.59393041e-01,\n",
      "         3.88210649e-01, -2.24850478e+03, -6.47124606e+02,\n",
      "         6.46756604e+02],\n",
      "       [ 2.37309517e+00, -1.42166140e+00,  2.78308405e+00,\n",
      "         1.38999749e+00,  5.26496357e+01, -1.34578238e+02,\n",
      "        -1.57346187e+00, -2.08452191e+00,  2.24281215e+00,\n",
      "        -7.50965185e+00,  7.15906371e+01, -2.20524855e+00,\n",
      "         5.66013822e+00, -4.63687862e+02, -4.73614962e+02,\n",
      "        -2.54008535e+02,  2.11058446e+02, -4.99831631e+02,\n",
      "         6.61839510e+01, -2.07939725e+02, -2.39894843e-02,\n",
      "         1.96630852e-01,  3.49560766e+02,  1.03408669e+02,\n",
      "        -1.03383193e+02],\n",
      "       [ 2.24486641e+00, -1.17892389e+00,  1.38999749e+00,\n",
      "         7.28884677e-01,  4.81327468e+01, -1.22485356e+02,\n",
      "        -1.43787118e+00, -1.91475978e+00,  2.20427022e+00,\n",
      "        -3.85039193e+00,  6.47885345e+01, -2.02804971e+00,\n",
      "         5.37155536e+00, -4.24920913e+02, -4.35894396e+02,\n",
      "        -2.30143402e+02,  1.92113955e+02, -4.58047140e+02,\n",
      "         5.95427773e+01, -1.86234906e+02, -2.22254875e-02,\n",
      "         5.61763172e-02,  3.18606906e+02,  9.29306280e+01,\n",
      "        -9.28951120e+01],\n",
      "       [ 7.52664394e+02, -3.40926931e+02,  5.26496360e+01,\n",
      "         4.81327469e+01,  1.56047066e+04, -3.95094888e+04,\n",
      "        -4.65989811e+02, -6.23376657e+02,  7.66793481e+02,\n",
      "        -2.11238334e+02,  2.07699976e+04, -6.60960112e+02,\n",
      "         1.80634449e+03, -1.38096461e+05, -1.42310029e+05,\n",
      "        -7.38862185e+04,  6.19811922e+04, -1.48872376e+05,\n",
      "         1.89684757e+04, -5.90148151e+04, -7.30595590e+00,\n",
      "        -2.41883945e+01,  1.02942688e+05,  2.95701427e+04,\n",
      "        -2.95541211e+04],\n",
      "       [-1.90269568e+03,  8.62062239e+02, -1.34578238e+02,\n",
      "        -1.22485356e+02, -3.95094888e+04,  1.00119728e+05,\n",
      "         1.17937471e+03,  1.57713671e+03, -1.93886529e+03,\n",
      "         5.38141378e+02, -5.26129647e+04,  1.67268203e+03,\n",
      "        -4.59927351e+03,  3.49739604e+05,  3.60420887e+05,\n",
      "         1.87121482e+05, -1.57001437e+05,  3.76983226e+05,\n",
      "        -4.80174924e+04,  1.49563808e+05,  1.85047026e+01,\n",
      "         6.39459722e+01, -2.60727889e+05, -7.48743702e+04,\n",
      "         7.48343993e+04],\n",
      "       [-2.26678406e+01,  1.02593474e+01, -1.57346187e+00,\n",
      "        -1.43787118e+00, -4.65989811e+02,  1.17937471e+03,\n",
      "         1.39900306e+01,  1.87640422e+01, -2.30721274e+01,\n",
      "         6.31133662e+00, -6.20212454e+02,  1.98865566e+01,\n",
      "        -5.39143338e+01,  4.12422095e+03,  4.25017595e+03,\n",
      "         2.20690438e+03, -1.85075516e+03,  4.44650042e+03,\n",
      "        -5.66846374e+02,  1.76153630e+03,  2.18142468e-01,\n",
      "         6.82527860e-01, -3.07403559e+03, -8.83332790e+02,\n",
      "         8.82849894e+02],\n",
      "       [-3.04650464e+01,  1.37439387e+01, -2.08452191e+00,\n",
      "        -1.91475978e+00, -6.23376657e+02,  1.57713671e+03,\n",
      "         1.87640422e+01,  2.53885143e+01, -3.09056363e+01,\n",
      "         8.39009794e+00, -8.29438531e+02,  2.69348407e+01,\n",
      "        -7.20008653e+01,  5.51724622e+03,  5.68643815e+03,\n",
      "         2.95211254e+03, -2.47515013e+03,  5.94871645e+03,\n",
      "        -7.58597877e+02,  2.35461321e+03,  2.91820205e-01,\n",
      "         9.01460943e-01, -4.11206017e+03, -1.18165765e+03,\n",
      "         1.18102871e+03],\n",
      "       [ 3.77163145e+01, -1.70260947e+01,  2.24281215e+00,\n",
      "         2.20427022e+00,  7.66793481e+02, -1.93886529e+03,\n",
      "        -2.30721274e+01, -3.09056363e+01,  3.84087827e+01,\n",
      "        -9.47749956e+00,  1.02001355e+03, -3.26655416e+01,\n",
      "         8.83830936e+01, -6.78570046e+03, -6.99206314e+03,\n",
      "        -3.63182278e+03,  3.04453650e+03, -7.31742831e+03,\n",
      "         9.33578245e+02, -2.89606249e+03, -3.58796909e-01,\n",
      "        -1.00412530e+00,  5.05681134e+03,  1.45402237e+03,\n",
      "        -1.45318760e+03],\n",
      "       [-9.75016364e+00,  5.32319071e+00, -7.50965185e+00,\n",
      "        -3.85039193e+00, -2.11238333e+02,  5.38141378e+02,\n",
      "         6.31133662e+00,  8.39009794e+00, -9.47749957e+00,\n",
      "         2.05980006e+01, -2.85122930e+02,  8.88307421e+00,\n",
      "        -2.33094559e+01,  1.86365670e+03,  1.90958091e+03,\n",
      "         1.01250882e+03, -8.44084478e+02,  2.00901317e+03,\n",
      "        -2.62472156e+02,  8.21793657e+02,  9.71864330e-02,\n",
      "        -3.97656258e-01, -1.39938048e+03, -4.09771756e+02,\n",
      "         4.09630030e+02],\n",
      "       [ 1.00106643e+03, -4.53660196e+02,  7.15906371e+01,\n",
      "         6.47885345e+01,  2.07699976e+04, -5.26129647e+04,\n",
      "        -6.20212454e+02, -8.29438531e+02,  1.02001355e+03,\n",
      "        -2.85122930e+02,  2.76795648e+04, -8.79559928e+02,\n",
      "         2.41818019e+03, -1.83874094e+05, -1.89491882e+05,\n",
      "        -9.83752427e+04,  8.25375802e+04, -1.98204820e+05,\n",
      "         2.52479445e+04, -7.86169209e+04, -9.72892333e+00,\n",
      "        -3.33389635e+01,  1.37065693e+05,  3.93625607e+04,\n",
      "        -3.93415035e+04],\n",
      "       [-3.22197998e+01,  1.45259309e+01, -2.20524855e+00,\n",
      "        -2.02804971e+00, -6.60960113e+02,  1.67268203e+03,\n",
      "         1.98865566e+01,  2.69348407e+01, -3.26655417e+01,\n",
      "         8.88307421e+00, -8.79559928e+02,  2.86082544e+01,\n",
      "        -7.65029451e+01,  5.85023867e+03,  6.02994284e+03,\n",
      "         3.12998854e+03, -2.62458490e+03,  6.30734451e+03,\n",
      "        -8.04139112e+02,  2.49709401e+03,  3.09471376e-01,\n",
      "         9.90403949e-01, -4.36038167e+03, -1.25272987e+03,\n",
      "         1.25207455e+03],\n",
      "       [ 8.66714899e+01, -3.91741978e+01,  5.66013820e+00,\n",
      "         5.37155535e+00,  1.80634449e+03, -4.59927351e+03,\n",
      "        -5.39143338e+01, -7.20008653e+01,  8.83830936e+01,\n",
      "        -2.33094558e+01,  2.41818019e+03, -7.65029451e+01,\n",
      "         2.22136424e+02, -1.60202028e+04, -1.65104806e+04,\n",
      "        -8.57296917e+03,  7.20065931e+03, -1.72539496e+04,\n",
      "         2.19405769e+03, -6.88423448e+03, -8.47957285e-01,\n",
      "        -3.63993658e+00,  1.19444047e+04,  3.42506364e+03,\n",
      "        -3.42350684e+03],\n",
      "       [-6.66022620e+03,  3.01644294e+03, -4.63687862e+02,\n",
      "        -4.24920913e+02, -1.38096461e+05,  3.49739604e+05,\n",
      "         4.12422095e+03,  5.51724622e+03, -6.78570046e+03,\n",
      "         1.86365670e+03, -1.83874094e+05,  5.85023867e+03,\n",
      "        -1.60202028e+04,  1.22234707e+06,  1.25969164e+06,\n",
      "         6.53973325e+05, -5.48630473e+05,  1.31768801e+06,\n",
      "        -1.67870830e+05,  5.22413333e+05,  6.46721851e+01,\n",
      "         2.17276415e+02, -9.11165246e+05, -2.61701068e+05,\n",
      "         2.61560231e+05],\n",
      "       [-6.86222125e+03,  3.10738993e+03, -4.73614962e+02,\n",
      "        -4.35894396e+02, -1.42310029e+05,  3.60420887e+05,\n",
      "         4.25017595e+03,  5.68643815e+03, -6.99206314e+03,\n",
      "         1.90958091e+03, -1.89491882e+05,  6.02994284e+03,\n",
      "        -1.65104806e+04,  1.25969164e+06,  1.29822287e+06,\n",
      "         6.73919027e+05, -5.65378198e+05,  1.35794155e+06,\n",
      "        -1.72980969e+05,  5.38328303e+05,  6.66520576e+01,\n",
      "         2.25945746e+02, -9.38983012e+05, -2.69668125e+05,\n",
      "         2.69523878e+05],\n",
      "       [-3.56549655e+03,  1.61549944e+03, -2.54008535e+02,\n",
      "        -2.30143402e+02, -7.38862185e+04,  1.87121482e+05,\n",
      "         2.20690438e+03,  2.95211254e+03, -3.63182278e+03,\n",
      "         1.01250882e+03, -9.83752427e+04,  3.12998854e+03,\n",
      "        -8.57296917e+03,  6.53973325e+05,  6.73919027e+05,\n",
      "         3.49921677e+05, -2.93538056e+05,  7.04986846e+05,\n",
      "        -8.98316993e+04,  2.79541265e+05,  3.45968028e+01,\n",
      "         1.14186822e+02, -4.87501556e+05, -1.40039515e+05,\n",
      "         1.39963998e+05],\n",
      "       [ 2.98812114e+03, -1.35379629e+03,  2.11058446e+02,\n",
      "         1.92113955e+02,  6.19811922e+04, -1.57001437e+05,\n",
      "        -1.85075516e+03, -2.47515013e+03,  3.04453650e+03,\n",
      "        -8.44084478e+02,  8.25375802e+04, -2.62458490e+03,\n",
      "         7.20065931e+03, -5.48630473e+05, -5.65378198e+05,\n",
      "        -2.93538056e+05,  2.46264651e+05, -5.91403657e+05,\n",
      "         7.53425817e+04, -2.34545009e+05, -2.90264675e+01,\n",
      "        -9.80304901e+01,  4.08979729e+05,  1.17464474e+05,\n",
      "        -1.17401563e+05],\n",
      "       [-7.18251532e+03,  3.25294017e+03, -4.99831631e+02,\n",
      "        -4.58047140e+02, -1.48872376e+05,  3.76983226e+05,\n",
      "         4.44650042e+03,  5.94871645e+03, -7.31742831e+03,\n",
      "         2.00901317e+03, -1.98204820e+05,  6.30734451e+03,\n",
      "        -1.72539496e+04,  1.31768801e+06,  1.35794155e+06,\n",
      "         7.04986846e+05, -5.91403657e+05,  1.42049860e+06,\n",
      "        -1.80980551e+05,  5.63092363e+05,  6.97150712e+01,\n",
      "         2.32166282e+02, -9.82221763e+05, -2.82124379e+05,\n",
      "         2.81972368e+05],\n",
      "       [ 9.17035238e+02, -4.15518159e+02,  6.61839511e+01,\n",
      "         5.95427774e+01,  1.89684757e+04, -4.80174924e+04,\n",
      "        -5.66846374e+02, -7.58597877e+02,  9.33578245e+02,\n",
      "        -2.62472156e+02,  2.52479445e+04, -8.04139112e+02,\n",
      "         2.19405769e+03, -1.67870830e+05, -1.72980969e+05,\n",
      "        -8.98316993e+04,  7.53425817e+04, -1.80980551e+05,\n",
      "         2.30713003e+04, -7.17347919e+04, -8.87927235e+00,\n",
      "        -2.79376127e+01,  1.25135665e+05,  3.59580464e+04,\n",
      "        -3.59382803e+04],\n",
      "       [-2.84247670e+03,  1.28876406e+03, -2.07939725e+02,\n",
      "        -1.86234906e+02, -5.90148151e+04,  1.49563808e+05,\n",
      "         1.76153630e+03,  2.35461321e+03, -2.89606249e+03,\n",
      "         8.21793657e+02, -7.86169209e+04,  2.49709401e+03,\n",
      "        -6.88423448e+03,  5.22413333e+05,  5.38328303e+05,\n",
      "         2.79541265e+05, -2.34545009e+05,  5.63092363e+05,\n",
      "        -7.17347919e+04,  2.23504678e+05,  2.76378402e+01,\n",
      "         9.46584910e+01, -3.89476847e+05, -1.11860961e+05,\n",
      "         1.11801017e+05],\n",
      "       [-3.52059039e-01,  1.59393041e-01, -2.39894842e-02,\n",
      "        -2.22254874e-02, -7.30595590e+00,  1.85047026e+01,\n",
      "         2.18142468e-01,  2.91820205e-01, -3.58796909e-01,\n",
      "         9.71864328e-02, -9.72892333e+00,  3.09471376e-01,\n",
      "        -8.47957285e-01,  6.46721851e+01,  6.66520576e+01,\n",
      "         3.45968028e+01, -2.90264675e+01,  6.97150712e+01,\n",
      "        -8.87927235e+00,  2.76378402e+01,  3.42231344e-03,\n",
      "         1.17721668e-02, -4.82070116e+01, -1.38429349e+01,\n",
      "         1.38356354e+01],\n",
      "       [-9.15319939e-01,  3.88210650e-01,  1.96630852e-01,\n",
      "         5.61763172e-02, -2.41883945e+01,  6.39459722e+01,\n",
      "         6.82527860e-01,  9.01460943e-01, -1.00412530e+00,\n",
      "        -3.97656259e-01, -3.33389635e+01,  9.90403949e-01,\n",
      "        -3.63993658e+00,  2.17276415e+02,  2.25945746e+02,\n",
      "         1.14186822e+02, -9.80304902e+01,  2.32166282e+02,\n",
      "        -2.79376127e+01,  9.46584910e+01,  1.17721668e-02,\n",
      "         2.65788640e-01, -1.62033264e+02, -4.45668772e+01,\n",
      "         4.45686945e+01],\n",
      "       [ 4.96345597e+03, -2.24850478e+03,  3.49560766e+02,\n",
      "         3.18606906e+02,  1.02942688e+05, -2.60727889e+05,\n",
      "        -3.07403559e+03, -4.11206017e+03,  5.05681134e+03,\n",
      "        -1.39938048e+03,  1.37065693e+05, -4.36038167e+03,\n",
      "         1.19444047e+04, -9.11165246e+05, -9.38983012e+05,\n",
      "        -4.87501556e+05,  4.08979729e+05, -9.82221763e+05,\n",
      "         1.25135665e+05, -3.89476847e+05, -4.82070116e+01,\n",
      "        -1.62033264e+02,  6.79228349e+05,  1.95088565e+05,\n",
      "        -1.94983634e+05],\n",
      "       [ 1.42781747e+03, -6.47124606e+02,  1.03408669e+02,\n",
      "         9.29306280e+01,  2.95701427e+04, -7.48743702e+04,\n",
      "        -8.83332790e+02, -1.18165765e+03,  1.45402237e+03,\n",
      "        -4.09771756e+02,  3.93625607e+04, -1.25272987e+03,\n",
      "         3.42506364e+03, -2.61701068e+05, -2.69668125e+05,\n",
      "        -1.40039515e+05,  1.17464474e+05, -2.82124379e+05,\n",
      "         3.59580464e+04, -1.11860961e+05, -1.38429349e+01,\n",
      "        -4.45668772e+01,  1.95088565e+05,  5.60522318e+04,\n",
      "        -5.60213273e+04],\n",
      "       [-1.42700600e+03,  6.46756604e+02, -1.03383193e+02,\n",
      "        -9.28951120e+01, -2.95541211e+04,  7.48343993e+04,\n",
      "         8.82849894e+02,  1.18102871e+03, -1.45318760e+03,\n",
      "         4.09630030e+02, -3.93415035e+04,  1.25207455e+03,\n",
      "        -3.42350684e+03,  2.61560231e+05,  2.69523878e+05,\n",
      "         1.39963998e+05, -1.17401563e+05,  2.81972368e+05,\n",
      "        -3.59382803e+04,  1.11801017e+05,  1.38356354e+01,\n",
      "         4.45686945e+01, -1.94983634e+05, -5.60213273e+04,\n",
      "         5.59908329e+04]])\n",
      "      jac: array([ 7.37869740e-03, -6.82568550e-03, -5.16758800e-01,  2.37356305e-01,\n",
      "        0.00000000e+00, -2.38418579e-07, -2.35712528e-02, -4.98170853e-02,\n",
      "       -2.52312422e-02, -1.53470993e-01, -2.38418579e-07,  4.22474146e-02,\n",
      "        5.84363937e-04,  1.10864639e-05,  7.34329224e-05,  6.58035278e-05,\n",
      "        1.17421150e-04,  1.39951706e-04,  1.70350075e-04, -6.12735748e-05,\n",
      "        7.69695473e+00,  4.23632860e-02,  2.10869312e-03, -6.60538673e-04,\n",
      "        4.83822823e-03])\n",
      "  message: 'Desired error not necessarily achieved due to precision loss.'\n",
      "     nfev: 34170\n",
      "      nit: 819\n",
      "     njev: 1265\n",
      "   status: 2\n",
      "  success: False\n",
      "        x: array([ 1.12690925e+01, -5.11822640e+00,  8.30609277e+00,  3.90121067e+00,\n",
      "        2.40828880e+03, -7.71850033e+02, -5.17523915e+00, -1.64012323e+01,\n",
      "        5.79017439e+00, -2.04773154e+01,  1.17634816e+02, -1.87358981e+01,\n",
      "       -1.22502182e+01, -3.82722154e+03,  4.62551052e+02, -3.36204374e+03,\n",
      "        2.73829041e+03, -4.23328563e+03,  5.67720017e+02, -3.40791977e+03,\n",
      "       -4.62729846e-01, -5.82997901e+00,  5.87461160e+03,  2.27708054e+03,\n",
      "       -2.27568815e+03])\n"
     ]
    }
   ],
   "source": [
    "from scipy.optimize import minimize\n",
    "res = minimize(cost, testw)\n",
    "print(res)\n",
    "best_w = res.x"
   ]
  },
  {
   "cell_type": "code",
   "execution_count": 90,
   "metadata": {
    "ExecuteTime": {
     "end_time": "2023-07-03T09:02:56.098855Z",
     "start_time": "2023-07-03T09:02:56.095891Z"
    }
   },
   "outputs": [
    {
     "name": "stdout",
     "output_type": "stream",
     "text": [
      "[9.99999998e-001 1.00000000e+000 1.00000000e+000 1.00000000e+000\n",
      " 1.00000000e+000 1.00000000e+000 8.00973612e-001 6.38958675e-001\n",
      " 1.00000000e+000 1.00000000e+000 9.76001533e-001 1.00000000e+000\n",
      " 7.93803993e-001 1.00000000e+000 8.00973612e-001 1.00000000e+000\n",
      " 1.00000000e+000 1.00000000e+000 1.00000000e+000 6.13151131e-001\n",
      " 8.00973612e-001 9.13133331e-001 7.59653750e-001 6.38958290e-001\n",
      " 1.00000000e+000 8.00940946e-001 1.00000000e+000 6.38956939e-001\n",
      " 9.93679384e-001 1.00000000e+000 1.00000000e+000 8.00973612e-001\n",
      " 6.38957510e-001 5.31732867e-001 8.00973612e-001 1.00000000e+000\n",
      " 1.00000000e+000 1.00000000e+000 1.00000000e+000 1.00000000e+000\n",
      " 1.00000000e+000 1.00000000e+000 1.00000000e+000 1.00000000e+000\n",
      " 1.00000000e+000 1.00000000e+000 1.00000000e+000 1.00000000e+000\n",
      " 8.00973612e-001 1.00000000e+000 1.71415225e-198 0.00000000e+000\n",
      " 0.00000000e+000 0.00000000e+000 4.55295788e-003 0.00000000e+000\n",
      " 0.00000000e+000 8.04040503e-001 0.00000000e+000 0.00000000e+000\n",
      " 7.04605129e-001 7.08699350e-010 0.00000000e+000 0.00000000e+000\n",
      " 0.00000000e+000 2.08129365e-002 0.00000000e+000 6.38958731e-001\n",
      " 0.00000000e+000 0.00000000e+000 0.00000000e+000 0.00000000e+000\n",
      " 0.00000000e+000 0.00000000e+000 0.00000000e+000 0.00000000e+000\n",
      " 0.00000000e+000 1.73193614e-005 0.00000000e+000 0.00000000e+000\n",
      " 0.00000000e+000 0.00000000e+000 6.35910609e-001 0.00000000e+000\n",
      " 0.00000000e+000 0.00000000e+000 0.00000000e+000 1.24620054e-002\n",
      " 0.00000000e+000 0.00000000e+000 6.38635517e-001 0.00000000e+000\n",
      " 0.00000000e+000 0.00000000e+000 2.02373397e-141 8.00983518e-001\n",
      " 8.88727641e-005 0.00000000e+000 0.00000000e+000 0.00000000e+000]\n",
      "[1 1 1 1 1 1 1 1 1 1 1 1 1 1 1 1 1 1 1 1 1 1 1 1 1 1 1 1 1 1 1 1 1 1 1 1 1\n",
      " 1 1 1 1 1 1 1 1 1 1 1 1 1 0 0 0 0 0 0 0 0 0 0 0 0 0 0 0 0 0 0 0 0 0 0 0 0\n",
      " 0 0 0 0 0 0 0 0 0 0 0 0 0 0 0 0 0 0 0 0 0 0 0 0 0 0]\n"
     ]
    }
   ],
   "source": [
    "print(predict(best_w, xs))\n",
    "print(ys)"
   ]
  },
  {
   "cell_type": "markdown",
   "metadata": {},
   "source": [
    "2) Consider the following dataset. \n",
    "\n",
    "We want to train a neural network 2 hidden layers where the first one has 4 nodes and second one with 2 nodes. How many parameters do we need in total?"
   ]
  },
  {
   "cell_type": "code",
   "execution_count": 91,
   "metadata": {
    "ExecuteTime": {
     "end_time": "2023-07-03T09:02:56.561844Z",
     "start_time": "2023-07-03T09:02:56.294356Z"
    }
   },
   "outputs": [
    {
     "data": {
      "text/plain": [
       "<matplotlib.contour.QuadContourSet at 0x7fc1e96cac50>"
      ]
     },
     "execution_count": 91,
     "metadata": {},
     "output_type": "execute_result"
    },
    {
     "data": {
      "image/png": "[encoded data removed]",
      "text/plain": [
       "<Figure size 432x288 with 1 Axes>"
      ]
     },
     "metadata": {
      "image/png": {
       "height": 252,
       "width": 374
      },
      "needs_background": "light"
     },
     "output_type": "display_data"
    }
   ],
   "source": [
    "np.random.seed(999)\n",
    "xs = np.hstack([np.random.randn(2,50), np.random.random(size=(2,50))*8-4])\n",
    "ys = np.array([1]*50+[0]*50)\n",
    "\n",
    "def draw_data():\n",
    "    plt.plot(xs[0, ys==0], xs[1, ys==0], '.r')\n",
    "    plt.plot(xs[0, ys==1], xs[1, ys==1], '.b')\n",
    "    \n",
    "draw_data()\n",
    "xxs = np.linspace(-4, 4, 100)\n",
    "yys = np.linspace(-4, 4, 100)\n",
    "Z = np.array([[predict(best_w, np.array([[x], [y]]))[0] for x in xxs] for y in yys])\n",
    "from matplotlib import pyplot as plt\n",
    "plt.contourf(xxs, yys, Z)"
   ]
  },
  {
   "cell_type": "markdown",
   "metadata": {},
   "source": [
    "3) Is initializing your initial weight with all 0 or all the same number a good idea?"
   ]
  },
  {
   "cell_type": "code",
   "execution_count": 41,
   "metadata": {
    "ExecuteTime": {
     "end_time": "2023-07-03T08:46:38.189477Z",
     "start_time": "2023-07-03T08:46:38.182362Z"
    }
   },
   "outputs": [
    {
     "data": {
      "text/plain": [
       "(2, 100)"
      ]
     },
     "execution_count": 41,
     "metadata": {},
     "output_type": "execute_result"
    }
   ],
   "source": [
    "xs.shape"
   ]
  },
  {
   "cell_type": "markdown",
   "metadata": {},
   "source": [
    "4) Given the following size information. Complete the following function."
   ]
  },
  {
   "cell_type": "code",
   "execution_count": null,
   "metadata": {},
   "outputs": [],
   "source": [
    "n_node = [4, 2, 1] # number of node in each layer\n",
    "def compute_w_b_offset(layer_no):\n",
    "    pass # fill this\n",
    "    return w_offset, n_w, b_offset, n_b # this is so that we can slice off parameter"
   ]
  },
  {
   "cell_type": "markdown",
   "metadata": {},
   "source": [
    "4) What implement the vectorized version of our cost function."
   ]
  },
  {
   "cell_type": "code",
   "execution_count": null,
   "metadata": {},
   "outputs": [],
   "source": []
  },
  {
   "cell_type": "markdown",
   "metadata": {},
   "source": [
    "5) Use np.optimize.minimize to train your network. Check with contour plot."
   ]
  },
  {
   "cell_type": "code",
   "execution_count": 19,
   "metadata": {},
   "outputs": [],
   "source": [
    "class SadNeuralNetwork:\n",
    "    def __init__(self):\n",
    "        pass\n",
    "    def train(self, xs, ys):\n",
    "        pass\n",
    "    def classify(self, xs):\n",
    "        pass"
   ]
  },
  {
   "cell_type": "markdown",
   "metadata": {},
   "source": [
    "# Back Propagation"
   ]
  },
  {
   "cell_type": "markdown",
   "metadata": {},
   "source": [
    "1) Why minimize is a bad idea?"
   ]
  },
  {
   "cell_type": "code",
   "execution_count": null,
   "metadata": {},
   "outputs": [],
   "source": []
  },
  {
   "cell_type": "markdown",
   "metadata": {},
   "source": [
    "2) Write down the update rule (The recursion relation one)"
   ]
  },
  {
   "cell_type": "code",
   "execution_count": null,
   "metadata": {},
   "outputs": [],
   "source": []
  },
  {
   "cell_type": "markdown",
   "metadata": {},
   "source": [
    "3) For the rest of the week. Write back propagation. This should work for any size neural network.\n",
    "\n",
    "Shouldn't take that long though. You will spend most of the time on trying to understand the relation above.\n",
    "\n",
    "Do this once and use library for the rest of your life unless you want something super custom."
   ]
  },
  {
   "cell_type": "code",
   "execution_count": 18,
   "metadata": {},
   "outputs": [],
   "source": [
    "class NeuralNetwork:\n",
    "    def __init__(self, n_nodes):\n",
    "        pass\n",
    "    \n",
    "    def train(self, xs, ys, lmbda):\n",
    "        #back prop\n",
    "        pass\n",
    "    \n",
    "    def classify(self, xs):\n",
    "        pass"
   ]
  },
  {
   "cell_type": "code",
   "execution_count": null,
   "metadata": {},
   "outputs": [],
   "source": []
  }
 ],
 "metadata": {
  "hide_input": false,
  "kernelspec": {
   "display_name": "Python 3",
   "language": "python",
   "name": "python3"
  },
  "language_info": {
   "codemirror_mode": {
    "name": "ipython",
    "version": 3
   },
   "file_extension": ".py",
   "mimetype": "text/x-python",
   "name": "python",
   "nbconvert_exporter": "python",
   "pygments_lexer": "ipython3",
   "version": "3.7.3"
  },
  "toc": {
   "colors": {
    "hover_highlight": "#DAA520",
    "running_highlight": "#FF0000",
    "selected_highlight": "#FFD700"
   },
   "moveMenuLeft": true,
   "nav_menu": {
    "height": "66px",
    "width": "252px"
   },
   "navigate_menu": true,
   "number_sections": false,
   "sideBar": true,
   "threshold": 4,
   "toc_cell": false,
   "toc_section_display": "block",
   "toc_window_display": false
  }
 },
 "nbformat": 4,
 "nbformat_minor": 2
}
